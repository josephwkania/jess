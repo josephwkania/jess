{
 "cells": [
  {
   "cell_type": "markdown",
   "id": "dd986593-2248-42f7-946e-492581417290",
   "metadata": {},
   "source": [
    "Make a filterbank with random numbers for testing"
   ]
  },
  {
   "cell_type": "code",
   "execution_count": 1,
   "id": "26198168-cea2-4fbb-a378-f590dd886e6c",
   "metadata": {},
   "outputs": [],
   "source": [
    "import matplotlib.pyplot as plt\n",
    "import numpy as np\n",
    "from jess.calculators import to_dtype\n",
    "from your import Your\n",
    "from your.formats.filwriter import make_sigproc_object\n",
    "\n",
    "%matplotlib inline"
   ]
  },
  {
   "cell_type": "code",
   "execution_count": 2,
   "id": "b701135a-ac96-46b3-a149-080e0e3ccd65",
   "metadata": {},
   "outputs": [],
   "source": [
    "# 128 chans, 512 samples\n",
    "nsamps = 512\n",
    "nchans = 32\n",
    "nbits = 8\n",
    "out_file = \"fake.fil\"\n",
    "rands = np.random.normal(size=nsamps * nchans).reshape(nsamps, nchans)"
   ]
  },
  {
   "cell_type": "code",
   "execution_count": 3,
   "id": "23896881-0329-46ef-b203-ec1c093b0477",
   "metadata": {},
   "outputs": [],
   "source": [
    "# add some bandpass effects\n",
    "structure = np.sin(np.linspace(0, np.pi, nchans))\n",
    "stds = 2**3 * structure + 2**2\n",
    "bandpass = 2**4 * structure + 2**6"
   ]
  },
  {
   "cell_type": "code",
   "execution_count": 4,
   "id": "b796b8f0-6e8b-46ed-a849-1c163da16e91",
   "metadata": {},
   "outputs": [
    {
     "data": {
      "text/plain": [
       "Text(0, 0.5, 'Samps')"
      ]
     },
     "execution_count": 4,
     "metadata": {},
     "output_type": "execute_result"
    },
    {
     "data": {
      "image/png": "[encoded data removed]",
      "text/plain": [
       "<Figure size 432x288 with 1 Axes>"
      ]
     },
     "metadata": {
      "needs_background": "light"
     },
     "output_type": "display_data"
    }
   ],
   "source": [
    "rands *= stds\n",
    "rands += bandpass\n",
    "rands = to_dtype(rands, np.uint8)\n",
    "plt.imshow(rands)\n",
    "plt.xlabel(\"Chans\")\n",
    "plt.ylabel(\"Samps\")"
   ]
  },
  {
   "cell_type": "code",
   "execution_count": 5,
   "id": "260dd7c6-251f-4ccf-94cc-ab45f64c73df",
   "metadata": {},
   "outputs": [],
   "source": [
    "# Write out as numpy  array\n",
    "np.save(\"fake.npy\", rands)"
   ]
  },
  {
   "cell_type": "code",
   "execution_count": 6,
   "id": "b11f9bfd-3196-456a-9aa5-11cb309ca209",
   "metadata": {},
   "outputs": [],
   "source": [
    "# Write out the fil\n",
    "sigproc_object = make_sigproc_object(\n",
    "    rawdatafile=out_file,\n",
    "    source_name=\"fake\",\n",
    "    nchans=nchans,\n",
    "    foff=1,  # MHz\n",
    "    fch1=1400,  # MHz\n",
    "    tsamp=0.000256,  # seconds\n",
    "    tstart=59215,  # MJD\n",
    "    # src_raj=yr_input.src_raj,  # HHMMSS.SS\n",
    "    # src_dej=yr_input.src_dej,  # DDMMSS.SS\n",
    "    machine_id=0,\n",
    "    nbeams=1,\n",
    "    # ibeam=yr_input.your_header.ibeam,\n",
    "    nbits=8,\n",
    "    # nifs=yr_input.your_header.nifs,\n",
    "    # barycentric=yr_input.your_header.barycentric,\n",
    "    # pulsarcentric=yr_input.your_header.pulsarcentric,\n",
    "    # telescope_id=yr_input.your_header.telescope_id,\n",
    "    # data_type=yr_input.your_header.data_type,\n",
    "    # az_start=yr_input.your_header.az_start,\n",
    "    # za_start=yr_input.your_header.za_start,\n",
    ")\n",
    "sigproc_object.write_header(out_file)"
   ]
  },
  {
   "cell_type": "code",
   "execution_count": 7,
   "id": "dc1af259-3d63-46f2-b74e-8f7f8c9cb653",
   "metadata": {},
   "outputs": [],
   "source": [
    "sigproc_object.append_spectra(rands, out_file)"
   ]
  },
  {
   "cell_type": "code",
   "execution_count": null,
   "id": "3e9f1f70-0ec4-4082-9b15-fb2bc2bfe37c",
   "metadata": {},
   "outputs": [],
   "source": []
  }
 ],
 "metadata": {
  "kernelspec": {
   "display_name": "Python 3.7.10 64-bit ('kpe': conda)",
   "language": "python",
   "name": "python3710jvsc74a57bd05e0340e3ac4c3d5357ef38c8d7a363ce5c774cd1bbfe8293e5f60a0b4ebd51b6"
  },
  "language_info": {
   "codemirror_mode": {
    "name": "ipython",
    "version": 3
   },
   "file_extension": ".py",
   "mimetype": "text/x-python",
   "name": "python",
   "nbconvert_exporter": "python",
   "pygments_lexer": "ipython3",
   "version": "3.7.11"
  }
 },
 "nbformat": 4,
 "nbformat_minor": 5
}
